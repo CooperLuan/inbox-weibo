{
 "metadata": {
  "name": "",
  "signature": "sha256:80ef49f4c05609780fef40188b6f51a156ea43ef5855e09e82fb5150f9c22bdd"
 },
 "nbformat": 3,
 "nbformat_minor": 0,
 "worksheets": [
  {
   "cells": [
    {
     "cell_type": "markdown",
     "metadata": {},
     "source": [
      "# Remove Duplicate Webpages"
     ]
    },
    {
     "cell_type": "code",
     "collapsed": false,
     "input": [
      "cd ../"
     ],
     "language": "python",
     "metadata": {},
     "outputs": []
    },
    {
     "cell_type": "code",
     "collapsed": false,
     "input": [
      "from instream.setup_env import main as setup_main\n",
      "setup_main('development.yml')\n",
      "from instream import env\n",
      "from collections import defaultdict\n",
      "\n",
      "document_id_to_sid = dict((row['_id'], row['collected']['data']['body']['id']) for row in env.MONGO.webpages.find(fields=['collected.data.body.id']))\n",
      "sid_to_document = defaultdict(list)\n",
      "for k, v in document_id_to_sid.items():\n",
      "    sid_to_document[v].append(k)\n",
      "list(sid_to_document.values())[0]\n"
     ],
     "language": "python",
     "metadata": {},
     "outputs": []
    },
    {
     "cell_type": "code",
     "collapsed": false,
     "input": [],
     "language": "python",
     "metadata": {},
     "outputs": []
    }
   ],
   "metadata": {}
  }
 ]
}